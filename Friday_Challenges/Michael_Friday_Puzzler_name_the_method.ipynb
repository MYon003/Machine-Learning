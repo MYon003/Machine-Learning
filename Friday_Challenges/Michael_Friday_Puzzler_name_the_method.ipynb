{
  "nbformat": 4,
  "nbformat_minor": 0,
  "metadata": {
    "colab": {
      "provenance": [],
      "collapsed_sections": [],
      "toc_visible": true,
      "authorship_tag": "ABX9TyPS1xCE+ES3u2qp62QF/HKH",
      "include_colab_link": true
    },
    "kernelspec": {
      "name": "python3",
      "display_name": "Python 3"
    },
    "language_info": {
      "name": "python"
    }
  },
  "cells": [
    {
      "cell_type": "markdown",
      "metadata": {
        "id": "view-in-github",
        "colab_type": "text"
      },
      "source": [
        "<a href=\"https://colab.research.google.com/github/MYon003/Myon/blob/main/Friday_Challenges/Michael_Friday_Puzzler_name_the_method.ipynb\" target=\"_parent\"><img src=\"https://colab.research.google.com/assets/colab-badge.svg\" alt=\"Open In Colab\"/></a>"
      ]
    },
    {
      "cell_type": "markdown",
      "source": [
        "# College First Year Cohorts (4xp)"
      ],
      "metadata": {
        "id": "R9nuFwUKhGnP"
      }
    },
    {
      "cell_type": "markdown",
      "source": [
        "To divide the student into cohorts it would probably be better to use clustering. Clustering because it would be able to group the students with similar answers on the questionaire. You can also set how many clusters there can be so it would be easy to divide them in to 20 cohorts."
      ],
      "metadata": {
        "id": "-YfMfKN2hLzz"
      }
    },
    {
      "cell_type": "markdown",
      "source": [
        "# Box office revenue"
      ],
      "metadata": {
        "id": "fWUabiq2jBLt"
      }
    },
    {
      "cell_type": "markdown",
      "source": [
        "1) To prepare the data you would need to use one_hot encoding on the genres and ratings to make them usable. Remove the month_released and Title because I do not think that will be too important to how much revenue it made. Title because it has it's own Movie_ID."
      ],
      "metadata": {
        "id": "UDIaMVeVjJuA"
      }
    },
    {
      "cell_type": "markdown",
      "source": [
        "2) The method used to predict would have to be decision tree. Decision trees becuase it can use the different feature subsets and decision rules to try and make accurate decicions. Also because this data set has multiple types of features like rating, and genres that can affect the revenuse it can generate."
      ],
      "metadata": {
        "id": "n-m4HeIWkWiq"
      }
    },
    {
      "cell_type": "markdown",
      "source": [
        "# Will a graduate make more than $50k a year?"
      ],
      "metadata": {
        "id": "sGYXjZarl8Ss"
      }
    },
    {
      "cell_type": "markdown",
      "source": [
        "For this method I would use decision trees again. Mostly becuase since there are multiple features that could impact a graduates chances of making more than 50k a year. A decision tree can help predict it because the decision rules at different stages of the classification can help predict weather or not they could make more than 50k a year."
      ],
      "metadata": {
        "id": "Nw8TWTkAl-_h"
      }
    }
  ]
}