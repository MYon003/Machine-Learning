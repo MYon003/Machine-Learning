{
  "nbformat": 4,
  "nbformat_minor": 0,
  "metadata": {
    "colab": {
      "provenance": [],
      "authorship_tag": "ABX9TyNAuvc826DM7hKljgdFhjnj",
      "include_colab_link": true
    },
    "kernelspec": {
      "name": "python3",
      "display_name": "Python 3"
    },
    "language_info": {
      "name": "python"
    }
  },
  "cells": [
    {
      "cell_type": "markdown",
      "metadata": {
        "id": "view-in-github",
        "colab_type": "text"
      },
      "source": [
        "<a href=\"https://colab.research.google.com/github/MYon003/Myon/blob/main/Projects/Crate_and_Barrel.ipynb\" target=\"_parent\"><img src=\"https://colab.research.google.com/assets/colab-badge.svg\" alt=\"Open In Colab\"/></a>"
      ]
    },
    {
      "cell_type": "code",
      "execution_count": 1,
      "metadata": {
        "colab": {
          "base_uri": "https://localhost:8080/"
        },
        "id": "0lHdWQyDWV0O",
        "outputId": "bfeab27d-cefc-4e5d-e0e5-01c9a66ab38a"
      },
      "outputs": [
        {
          "output_type": "stream",
          "name": "stdout",
          "text": [
            "Archive:  test.csv.zip\n",
            "  inflating: test.csv                \n",
            "Archive:  train.csv.zip\n",
            "  inflating: train.csv               \n"
          ]
        }
      ],
      "source": [
        "# Unzip the test and train data.\n",
        "\n",
        "!unzip test.csv.zip\n",
        "!unzip train.csv.zip"
      ]
    },
    {
      "cell_type": "code",
      "source": [
        "# Getting the train and test values into dataframes.\n",
        "\n",
        "import pandas as pd\n",
        "\n",
        "train = pd.read_csv(\"train.csv\", index_col = 0)\n",
        "test = pd.read_csv(\"test.csv\", index_col = 0)\n",
        "\n",
        "train[:5]"
      ],
      "metadata": {
        "colab": {
          "base_uri": "https://localhost:8080/",
          "height": 267
        },
        "id": "ND6OMR0IYY1w",
        "outputId": "abd1d4cc-b12a-4acc-cc60-59dc57d50dc4"
      },
      "execution_count": 257,
      "outputs": [
        {
          "output_type": "execute_result",
          "data": {
            "text/plain": [
              "    feat_1  feat_2  feat_3  feat_4  feat_5  feat_6  feat_7  feat_8  feat_9  \\\n",
              "id                                                                           \n",
              "1        1       0       0       0       0       0       0       0       0   \n",
              "2        0       0       0       0       0       0       0       1       0   \n",
              "3        0       0       0       0       0       0       0       1       0   \n",
              "4        1       0       0       1       6       1       5       0       0   \n",
              "5        0       0       0       0       0       0       0       0       0   \n",
              "\n",
              "    feat_10  ...  feat_85  feat_86  feat_87  feat_88  feat_89  feat_90  \\\n",
              "id           ...                                                         \n",
              "1         0  ...        1        0        0        0        0        0   \n",
              "2         0  ...        0        0        0        0        0        0   \n",
              "3         0  ...        0        0        0        0        0        0   \n",
              "4         1  ...        0        1        2        0        0        0   \n",
              "5         0  ...        1        0        0        0        0        1   \n",
              "\n",
              "    feat_91  feat_92  feat_93   target  \n",
              "id                                      \n",
              "1         0        0        0  Class_1  \n",
              "2         0        0        0  Class_1  \n",
              "3         0        0        0  Class_1  \n",
              "4         0        0        0  Class_1  \n",
              "5         0        0        0  Class_1  \n",
              "\n",
              "[5 rows x 94 columns]"
            ],
            "text/html": [
              "\n",
              "  <div id=\"df-3ccf3860-d4c7-49a0-9a6d-0f594b2ec144\">\n",
              "    <div class=\"colab-df-container\">\n",
              "      <div>\n",
              "<style scoped>\n",
              "    .dataframe tbody tr th:only-of-type {\n",
              "        vertical-align: middle;\n",
              "    }\n",
              "\n",
              "    .dataframe tbody tr th {\n",
              "        vertical-align: top;\n",
              "    }\n",
              "\n",
              "    .dataframe thead th {\n",
              "        text-align: right;\n",
              "    }\n",
              "</style>\n",
              "<table border=\"1\" class=\"dataframe\">\n",
              "  <thead>\n",
              "    <tr style=\"text-align: right;\">\n",
              "      <th></th>\n",
              "      <th>feat_1</th>\n",
              "      <th>feat_2</th>\n",
              "      <th>feat_3</th>\n",
              "      <th>feat_4</th>\n",
              "      <th>feat_5</th>\n",
              "      <th>feat_6</th>\n",
              "      <th>feat_7</th>\n",
              "      <th>feat_8</th>\n",
              "      <th>feat_9</th>\n",
              "      <th>feat_10</th>\n",
              "      <th>...</th>\n",
              "      <th>feat_85</th>\n",
              "      <th>feat_86</th>\n",
              "      <th>feat_87</th>\n",
              "      <th>feat_88</th>\n",
              "      <th>feat_89</th>\n",
              "      <th>feat_90</th>\n",
              "      <th>feat_91</th>\n",
              "      <th>feat_92</th>\n",
              "      <th>feat_93</th>\n",
              "      <th>target</th>\n",
              "    </tr>\n",
              "    <tr>\n",
              "      <th>id</th>\n",
              "      <th></th>\n",
              "      <th></th>\n",
              "      <th></th>\n",
              "      <th></th>\n",
              "      <th></th>\n",
              "      <th></th>\n",
              "      <th></th>\n",
              "      <th></th>\n",
              "      <th></th>\n",
              "      <th></th>\n",
              "      <th></th>\n",
              "      <th></th>\n",
              "      <th></th>\n",
              "      <th></th>\n",
              "      <th></th>\n",
              "      <th></th>\n",
              "      <th></th>\n",
              "      <th></th>\n",
              "      <th></th>\n",
              "      <th></th>\n",
              "      <th></th>\n",
              "    </tr>\n",
              "  </thead>\n",
              "  <tbody>\n",
              "    <tr>\n",
              "      <th>1</th>\n",
              "      <td>1</td>\n",
              "      <td>0</td>\n",
              "      <td>0</td>\n",
              "      <td>0</td>\n",
              "      <td>0</td>\n",
              "      <td>0</td>\n",
              "      <td>0</td>\n",
              "      <td>0</td>\n",
              "      <td>0</td>\n",
              "      <td>0</td>\n",
              "      <td>...</td>\n",
              "      <td>1</td>\n",
              "      <td>0</td>\n",
              "      <td>0</td>\n",
              "      <td>0</td>\n",
              "      <td>0</td>\n",
              "      <td>0</td>\n",
              "      <td>0</td>\n",
              "      <td>0</td>\n",
              "      <td>0</td>\n",
              "      <td>Class_1</td>\n",
              "    </tr>\n",
              "    <tr>\n",
              "      <th>2</th>\n",
              "      <td>0</td>\n",
              "      <td>0</td>\n",
              "      <td>0</td>\n",
              "      <td>0</td>\n",
              "      <td>0</td>\n",
              "      <td>0</td>\n",
              "      <td>0</td>\n",
              "      <td>1</td>\n",
              "      <td>0</td>\n",
              "      <td>0</td>\n",
              "      <td>...</td>\n",
              "      <td>0</td>\n",
              "      <td>0</td>\n",
              "      <td>0</td>\n",
              "      <td>0</td>\n",
              "      <td>0</td>\n",
              "      <td>0</td>\n",
              "      <td>0</td>\n",
              "      <td>0</td>\n",
              "      <td>0</td>\n",
              "      <td>Class_1</td>\n",
              "    </tr>\n",
              "    <tr>\n",
              "      <th>3</th>\n",
              "      <td>0</td>\n",
              "      <td>0</td>\n",
              "      <td>0</td>\n",
              "      <td>0</td>\n",
              "      <td>0</td>\n",
              "      <td>0</td>\n",
              "      <td>0</td>\n",
              "      <td>1</td>\n",
              "      <td>0</td>\n",
              "      <td>0</td>\n",
              "      <td>...</td>\n",
              "      <td>0</td>\n",
              "      <td>0</td>\n",
              "      <td>0</td>\n",
              "      <td>0</td>\n",
              "      <td>0</td>\n",
              "      <td>0</td>\n",
              "      <td>0</td>\n",
              "      <td>0</td>\n",
              "      <td>0</td>\n",
              "      <td>Class_1</td>\n",
              "    </tr>\n",
              "    <tr>\n",
              "      <th>4</th>\n",
              "      <td>1</td>\n",
              "      <td>0</td>\n",
              "      <td>0</td>\n",
              "      <td>1</td>\n",
              "      <td>6</td>\n",
              "      <td>1</td>\n",
              "      <td>5</td>\n",
              "      <td>0</td>\n",
              "      <td>0</td>\n",
              "      <td>1</td>\n",
              "      <td>...</td>\n",
              "      <td>0</td>\n",
              "      <td>1</td>\n",
              "      <td>2</td>\n",
              "      <td>0</td>\n",
              "      <td>0</td>\n",
              "      <td>0</td>\n",
              "      <td>0</td>\n",
              "      <td>0</td>\n",
              "      <td>0</td>\n",
              "      <td>Class_1</td>\n",
              "    </tr>\n",
              "    <tr>\n",
              "      <th>5</th>\n",
              "      <td>0</td>\n",
              "      <td>0</td>\n",
              "      <td>0</td>\n",
              "      <td>0</td>\n",
              "      <td>0</td>\n",
              "      <td>0</td>\n",
              "      <td>0</td>\n",
              "      <td>0</td>\n",
              "      <td>0</td>\n",
              "      <td>0</td>\n",
              "      <td>...</td>\n",
              "      <td>1</td>\n",
              "      <td>0</td>\n",
              "      <td>0</td>\n",
              "      <td>0</td>\n",
              "      <td>0</td>\n",
              "      <td>1</td>\n",
              "      <td>0</td>\n",
              "      <td>0</td>\n",
              "      <td>0</td>\n",
              "      <td>Class_1</td>\n",
              "    </tr>\n",
              "  </tbody>\n",
              "</table>\n",
              "<p>5 rows × 94 columns</p>\n",
              "</div>\n",
              "      <button class=\"colab-df-convert\" onclick=\"convertToInteractive('df-3ccf3860-d4c7-49a0-9a6d-0f594b2ec144')\"\n",
              "              title=\"Convert this dataframe to an interactive table.\"\n",
              "              style=\"display:none;\">\n",
              "        \n",
              "  <svg xmlns=\"http://www.w3.org/2000/svg\" height=\"24px\"viewBox=\"0 0 24 24\"\n",
              "       width=\"24px\">\n",
              "    <path d=\"M0 0h24v24H0V0z\" fill=\"none\"/>\n",
              "    <path d=\"M18.56 5.44l.94 2.06.94-2.06 2.06-.94-2.06-.94-.94-2.06-.94 2.06-2.06.94zm-11 1L8.5 8.5l.94-2.06 2.06-.94-2.06-.94L8.5 2.5l-.94 2.06-2.06.94zm10 10l.94 2.06.94-2.06 2.06-.94-2.06-.94-.94-2.06-.94 2.06-2.06.94z\"/><path d=\"M17.41 7.96l-1.37-1.37c-.4-.4-.92-.59-1.43-.59-.52 0-1.04.2-1.43.59L10.3 9.45l-7.72 7.72c-.78.78-.78 2.05 0 2.83L4 21.41c.39.39.9.59 1.41.59.51 0 1.02-.2 1.41-.59l7.78-7.78 2.81-2.81c.8-.78.8-2.07 0-2.86zM5.41 20L4 18.59l7.72-7.72 1.47 1.35L5.41 20z\"/>\n",
              "  </svg>\n",
              "      </button>\n",
              "      \n",
              "  <style>\n",
              "    .colab-df-container {\n",
              "      display:flex;\n",
              "      flex-wrap:wrap;\n",
              "      gap: 12px;\n",
              "    }\n",
              "\n",
              "    .colab-df-convert {\n",
              "      background-color: #E8F0FE;\n",
              "      border: none;\n",
              "      border-radius: 50%;\n",
              "      cursor: pointer;\n",
              "      display: none;\n",
              "      fill: #1967D2;\n",
              "      height: 32px;\n",
              "      padding: 0 0 0 0;\n",
              "      width: 32px;\n",
              "    }\n",
              "\n",
              "    .colab-df-convert:hover {\n",
              "      background-color: #E2EBFA;\n",
              "      box-shadow: 0px 1px 2px rgba(60, 64, 67, 0.3), 0px 1px 3px 1px rgba(60, 64, 67, 0.15);\n",
              "      fill: #174EA6;\n",
              "    }\n",
              "\n",
              "    [theme=dark] .colab-df-convert {\n",
              "      background-color: #3B4455;\n",
              "      fill: #D2E3FC;\n",
              "    }\n",
              "\n",
              "    [theme=dark] .colab-df-convert:hover {\n",
              "      background-color: #434B5C;\n",
              "      box-shadow: 0px 1px 3px 1px rgba(0, 0, 0, 0.15);\n",
              "      filter: drop-shadow(0px 1px 2px rgba(0, 0, 0, 0.3));\n",
              "      fill: #FFFFFF;\n",
              "    }\n",
              "  </style>\n",
              "\n",
              "      <script>\n",
              "        const buttonEl =\n",
              "          document.querySelector('#df-3ccf3860-d4c7-49a0-9a6d-0f594b2ec144 button.colab-df-convert');\n",
              "        buttonEl.style.display =\n",
              "          google.colab.kernel.accessAllowed ? 'block' : 'none';\n",
              "\n",
              "        async function convertToInteractive(key) {\n",
              "          const element = document.querySelector('#df-3ccf3860-d4c7-49a0-9a6d-0f594b2ec144');\n",
              "          const dataTable =\n",
              "            await google.colab.kernel.invokeFunction('convertToInteractive',\n",
              "                                                     [key], {});\n",
              "          if (!dataTable) return;\n",
              "\n",
              "          const docLinkHtml = 'Like what you see? Visit the ' +\n",
              "            '<a target=\"_blank\" href=https://colab.research.google.com/notebooks/data_table.ipynb>data table notebook</a>'\n",
              "            + ' to learn more about interactive tables.';\n",
              "          element.innerHTML = '';\n",
              "          dataTable['output_type'] = 'display_data';\n",
              "          await google.colab.output.renderOutput(dataTable, element);\n",
              "          const docLink = document.createElement('div');\n",
              "          docLink.innerHTML = docLinkHtml;\n",
              "          element.appendChild(docLink);\n",
              "        }\n",
              "      </script>\n",
              "    </div>\n",
              "  </div>\n",
              "  "
            ]
          },
          "metadata": {},
          "execution_count": 257
        }
      ]
    },
    {
      "cell_type": "code",
      "source": [
        "# Keeping the 'target' column as a single column.\n",
        "from sklearn import preprocessing\n",
        "le = preprocessing.LabelEncoder()\n",
        "\n",
        "train['target'] = le.fit_transform(train['target'])\n",
        "train['target'].unique()"
      ],
      "metadata": {
        "colab": {
          "base_uri": "https://localhost:8080/"
        },
        "id": "vHtXwH4ezQbl",
        "outputId": "3ca7c7b1-1c79-435a-e49d-a8355baa4a95"
      },
      "execution_count": 258,
      "outputs": [
        {
          "output_type": "execute_result",
          "data": {
            "text/plain": [
              "array([0, 1, 2, 3, 4, 5, 6, 7, 8])"
            ]
          },
          "metadata": {},
          "execution_count": 258
        }
      ]
    },
    {
      "cell_type": "code",
      "source": [
        "# Seperating the labels from the features set.\n",
        "labels = train['target']\n",
        "features = train.drop('target', axis = 1)\n",
        "labels"
      ],
      "metadata": {
        "colab": {
          "base_uri": "https://localhost:8080/"
        },
        "id": "9x8s03WfbbH6",
        "outputId": "dc2b488f-573a-4007-d336-2ca32732fe6a"
      },
      "execution_count": 259,
      "outputs": [
        {
          "output_type": "execute_result",
          "data": {
            "text/plain": [
              "id\n",
              "1        0\n",
              "2        0\n",
              "3        0\n",
              "4        0\n",
              "5        0\n",
              "        ..\n",
              "61874    8\n",
              "61875    8\n",
              "61876    8\n",
              "61877    8\n",
              "61878    8\n",
              "Name: target, Length: 61878, dtype: int64"
            ]
          },
          "metadata": {},
          "execution_count": 259
        }
      ]
    },
    {
      "cell_type": "code",
      "source": [
        "# Figureing out the shape of the data.\n",
        "features.shape"
      ],
      "metadata": {
        "colab": {
          "base_uri": "https://localhost:8080/"
        },
        "id": "tgbjn687cjvH",
        "outputId": "29b1fd34-d853-468f-c7e5-77220f28c79f"
      },
      "execution_count": 260,
      "outputs": [
        {
          "output_type": "execute_result",
          "data": {
            "text/plain": [
              "(61878, 93)"
            ]
          },
          "metadata": {},
          "execution_count": 260
        }
      ]
    },
    {
      "cell_type": "code",
      "source": [
        "# Encode the labels of the train set(There are no labels for the test set)\n",
        "\n",
        "from keras.utils import to_categorical\n",
        "\n",
        "labels = to_categorical(labels)\n",
        "labels[:5]"
      ],
      "metadata": {
        "colab": {
          "base_uri": "https://localhost:8080/"
        },
        "id": "qtYSbJnbdCIp",
        "outputId": "180ed40e-d226-4388-a051-e6d4f1bef11b"
      },
      "execution_count": 261,
      "outputs": [
        {
          "output_type": "execute_result",
          "data": {
            "text/plain": [
              "array([[1., 0., 0., 0., 0., 0., 0., 0., 0.],\n",
              "       [1., 0., 0., 0., 0., 0., 0., 0., 0.],\n",
              "       [1., 0., 0., 0., 0., 0., 0., 0., 0.],\n",
              "       [1., 0., 0., 0., 0., 0., 0., 0., 0.],\n",
              "       [1., 0., 0., 0., 0., 0., 0., 0., 0.]], dtype=float32)"
            ]
          },
          "metadata": {},
          "execution_count": 261
        }
      ]
    },
    {
      "cell_type": "code",
      "source": [
        "# Split the data into sets.\n",
        "\n",
        "from sklearn.model_selection import train_test_split\n",
        "features_train, features_test, label_train, label_test = train_test_split(features, labels, random_state=48, train_size = .85)"
      ],
      "metadata": {
        "id": "cGg9_xfd1QN0"
      },
      "execution_count": 267,
      "outputs": []
    },
    {
      "cell_type": "code",
      "source": [
        "# Creating the model and compiling it.\n",
        "\n",
        "from keras import models\n",
        "from keras import layers\n",
        "\n",
        "model = models.Sequential()\n",
        "\n",
        "model.add(layers.Flatten(input_shape=(93,)))\n",
        "\n",
        "model.add(layers.Dense(512, activation='relu', input_shape=(93,)))\n",
        "model.add(layers.Dense(256, activation='relu'))\n",
        "model.add(layers.Dense(128, activation='relu'))\n",
        "model.add(layers.Dense(9, activation='softmax'))\n",
        "\n",
        "model.summary()\n",
        "\n",
        "model.compile(optimizer='rmsprop',\n",
        "                loss='categorical_crossentropy',\n",
        "                metrics=['accuracy'])"
      ],
      "metadata": {
        "colab": {
          "base_uri": "https://localhost:8080/"
        },
        "id": "rEyCfCoG0Y5U",
        "outputId": "6f3efb7f-abf7-4cc5-c532-fbe1fbfe82f6"
      },
      "execution_count": 268,
      "outputs": [
        {
          "output_type": "stream",
          "name": "stdout",
          "text": [
            "Model: \"sequential_30\"\n",
            "_________________________________________________________________\n",
            " Layer (type)                Output Shape              Param #   \n",
            "=================================================================\n",
            " flatten_25 (Flatten)        (None, 93)                0         \n",
            "                                                                 \n",
            " dense_52 (Dense)            (None, 512)               48128     \n",
            "                                                                 \n",
            " dense_53 (Dense)            (None, 256)               131328    \n",
            "                                                                 \n",
            " dense_54 (Dense)            (None, 128)               32896     \n",
            "                                                                 \n",
            " dense_55 (Dense)            (None, 9)                 1161      \n",
            "                                                                 \n",
            "=================================================================\n",
            "Total params: 213,513\n",
            "Trainable params: 213,513\n",
            "Non-trainable params: 0\n",
            "_________________________________________________________________\n"
          ]
        }
      ]
    },
    {
      "cell_type": "code",
      "source": [
        "# Fitting the model and keeping the history to view on a chart.\n",
        "\n",
        "history = model.fit(features_train, label_train, epochs=50, steps_per_epoch=100, validation_split=0.1, validation_steps=50)"
      ],
      "metadata": {
        "colab": {
          "base_uri": "https://localhost:8080/"
        },
        "id": "cU0TGXnJ0j9V",
        "outputId": "d01985c6-4a0f-40d3-dead-b519ad46510f"
      },
      "execution_count": 269,
      "outputs": [
        {
          "output_type": "stream",
          "name": "stdout",
          "text": [
            "Epoch 1/50\n",
            "100/100 [==============================] - 3s 26ms/step - loss: 0.7824 - accuracy: 0.7226 - val_loss: 0.6012 - val_accuracy: 0.7736\n",
            "Epoch 2/50\n",
            "100/100 [==============================] - 3s 26ms/step - loss: 0.6007 - accuracy: 0.7695 - val_loss: 0.5573 - val_accuracy: 0.7933\n",
            "Epoch 3/50\n",
            "100/100 [==============================] - 2s 23ms/step - loss: 0.5453 - accuracy: 0.7843 - val_loss: 0.5233 - val_accuracy: 0.8006\n",
            "Epoch 4/50\n",
            "100/100 [==============================] - 2s 23ms/step - loss: 0.5077 - accuracy: 0.7993 - val_loss: 0.5183 - val_accuracy: 0.8063\n",
            "Epoch 5/50\n",
            "100/100 [==============================] - 2s 21ms/step - loss: 0.4736 - accuracy: 0.8103 - val_loss: 0.4922 - val_accuracy: 0.8086\n",
            "Epoch 6/50\n",
            "100/100 [==============================] - 3s 26ms/step - loss: 0.4478 - accuracy: 0.8190 - val_loss: 0.5050 - val_accuracy: 0.8097\n",
            "Epoch 7/50\n",
            "100/100 [==============================] - 4s 37ms/step - loss: 0.4240 - accuracy: 0.8279 - val_loss: 0.5058 - val_accuracy: 0.8082\n",
            "Epoch 8/50\n",
            "100/100 [==============================] - 2s 23ms/step - loss: 0.3991 - accuracy: 0.8368 - val_loss: 0.4865 - val_accuracy: 0.8186\n",
            "Epoch 9/50\n",
            "100/100 [==============================] - 4s 38ms/step - loss: 0.3772 - accuracy: 0.8466 - val_loss: 0.4878 - val_accuracy: 0.8175\n",
            "Epoch 10/50\n",
            "100/100 [==============================] - 3s 25ms/step - loss: 0.3593 - accuracy: 0.8540 - val_loss: 0.5909 - val_accuracy: 0.8019\n",
            "Epoch 11/50\n",
            "100/100 [==============================] - 2s 23ms/step - loss: 0.3406 - accuracy: 0.8616 - val_loss: 0.5373 - val_accuracy: 0.8032\n",
            "Epoch 12/50\n",
            "100/100 [==============================] - 2s 22ms/step - loss: 0.3221 - accuracy: 0.8676 - val_loss: 0.4969 - val_accuracy: 0.8257\n",
            "Epoch 13/50\n",
            "100/100 [==============================] - 2s 23ms/step - loss: 0.3049 - accuracy: 0.8760 - val_loss: 0.5318 - val_accuracy: 0.8177\n",
            "Epoch 14/50\n",
            "100/100 [==============================] - 2s 23ms/step - loss: 0.2904 - accuracy: 0.8806 - val_loss: 0.5076 - val_accuracy: 0.8245\n",
            "Epoch 15/50\n",
            "100/100 [==============================] - 2s 23ms/step - loss: 0.2752 - accuracy: 0.8881 - val_loss: 0.5619 - val_accuracy: 0.8143\n",
            "Epoch 16/50\n",
            "100/100 [==============================] - 2s 24ms/step - loss: 0.2629 - accuracy: 0.8930 - val_loss: 0.5797 - val_accuracy: 0.8042\n",
            "Epoch 17/50\n",
            "100/100 [==============================] - 2s 24ms/step - loss: 0.2459 - accuracy: 0.9003 - val_loss: 0.6254 - val_accuracy: 0.8032\n",
            "Epoch 18/50\n",
            "100/100 [==============================] - 3s 26ms/step - loss: 0.2345 - accuracy: 0.9064 - val_loss: 0.6172 - val_accuracy: 0.8086\n",
            "Epoch 19/50\n",
            "100/100 [==============================] - 2s 23ms/step - loss: 0.2244 - accuracy: 0.9098 - val_loss: 0.6137 - val_accuracy: 0.8222\n",
            "Epoch 20/50\n",
            "100/100 [==============================] - 2s 22ms/step - loss: 0.2119 - accuracy: 0.9142 - val_loss: 0.6224 - val_accuracy: 0.8114\n",
            "Epoch 21/50\n",
            "100/100 [==============================] - 2s 24ms/step - loss: 0.1979 - accuracy: 0.9207 - val_loss: 0.6567 - val_accuracy: 0.7970\n",
            "Epoch 22/50\n",
            "100/100 [==============================] - 2s 25ms/step - loss: 0.1890 - accuracy: 0.9242 - val_loss: 0.6906 - val_accuracy: 0.8091\n",
            "Epoch 23/50\n",
            "100/100 [==============================] - 2s 24ms/step - loss: 0.1769 - accuracy: 0.9303 - val_loss: 0.7068 - val_accuracy: 0.8106\n",
            "Epoch 24/50\n",
            "100/100 [==============================] - 2s 24ms/step - loss: 0.1673 - accuracy: 0.9336 - val_loss: 0.7563 - val_accuracy: 0.8101\n",
            "Epoch 25/50\n",
            "100/100 [==============================] - 3s 25ms/step - loss: 0.1604 - accuracy: 0.9364 - val_loss: 0.7610 - val_accuracy: 0.8059\n",
            "Epoch 26/50\n",
            "100/100 [==============================] - 2s 24ms/step - loss: 0.1513 - accuracy: 0.9411 - val_loss: 0.7657 - val_accuracy: 0.8042\n",
            "Epoch 27/50\n",
            "100/100 [==============================] - 2s 23ms/step - loss: 0.1453 - accuracy: 0.9436 - val_loss: 0.7763 - val_accuracy: 0.7992\n",
            "Epoch 28/50\n",
            "100/100 [==============================] - 3s 25ms/step - loss: 0.1361 - accuracy: 0.9477 - val_loss: 0.8077 - val_accuracy: 0.7951\n",
            "Epoch 29/50\n",
            "100/100 [==============================] - 3s 30ms/step - loss: 0.1282 - accuracy: 0.9501 - val_loss: 0.8747 - val_accuracy: 0.8089\n",
            "Epoch 30/50\n",
            "100/100 [==============================] - 4s 38ms/step - loss: 0.1203 - accuracy: 0.9542 - val_loss: 0.8852 - val_accuracy: 0.8057\n",
            "Epoch 31/50\n",
            "100/100 [==============================] - 3s 25ms/step - loss: 0.1170 - accuracy: 0.9564 - val_loss: 0.8433 - val_accuracy: 0.8082\n",
            "Epoch 32/50\n",
            "100/100 [==============================] - 3s 25ms/step - loss: 0.1088 - accuracy: 0.9586 - val_loss: 0.9109 - val_accuracy: 0.8103\n",
            "Epoch 33/50\n",
            "100/100 [==============================] - 2s 24ms/step - loss: 0.1036 - accuracy: 0.9605 - val_loss: 0.9189 - val_accuracy: 0.8067\n",
            "Epoch 34/50\n",
            "100/100 [==============================] - 2s 22ms/step - loss: 0.0992 - accuracy: 0.9620 - val_loss: 0.9678 - val_accuracy: 0.8099\n",
            "Epoch 35/50\n",
            "100/100 [==============================] - 2s 23ms/step - loss: 0.0956 - accuracy: 0.9646 - val_loss: 0.9448 - val_accuracy: 0.8141\n",
            "Epoch 36/50\n",
            "100/100 [==============================] - 2s 23ms/step - loss: 0.0905 - accuracy: 0.9671 - val_loss: 0.9998 - val_accuracy: 0.8116\n",
            "Epoch 37/50\n",
            "100/100 [==============================] - 2s 21ms/step - loss: 0.0851 - accuracy: 0.9688 - val_loss: 1.0221 - val_accuracy: 0.8183\n",
            "Epoch 38/50\n",
            "100/100 [==============================] - 2s 21ms/step - loss: 0.0807 - accuracy: 0.9705 - val_loss: 1.0900 - val_accuracy: 0.8048\n",
            "Epoch 39/50\n",
            "100/100 [==============================] - 2s 21ms/step - loss: 0.0774 - accuracy: 0.9714 - val_loss: 1.0987 - val_accuracy: 0.8097\n",
            "Epoch 40/50\n",
            "100/100 [==============================] - 2s 22ms/step - loss: 0.0756 - accuracy: 0.9741 - val_loss: 1.1263 - val_accuracy: 0.8120\n",
            "Epoch 41/50\n",
            "100/100 [==============================] - 2s 21ms/step - loss: 0.0692 - accuracy: 0.9747 - val_loss: 1.1875 - val_accuracy: 0.8089\n",
            "Epoch 42/50\n",
            "100/100 [==============================] - 2s 21ms/step - loss: 0.0699 - accuracy: 0.9742 - val_loss: 1.1561 - val_accuracy: 0.7996\n",
            "Epoch 43/50\n",
            "100/100 [==============================] - 2s 22ms/step - loss: 0.0639 - accuracy: 0.9767 - val_loss: 1.2983 - val_accuracy: 0.8048\n",
            "Epoch 44/50\n",
            "100/100 [==============================] - 2s 23ms/step - loss: 0.0640 - accuracy: 0.9788 - val_loss: 1.2030 - val_accuracy: 0.8021\n",
            "Epoch 45/50\n",
            "100/100 [==============================] - 2s 22ms/step - loss: 0.0603 - accuracy: 0.9791 - val_loss: 1.2147 - val_accuracy: 0.8068\n",
            "Epoch 46/50\n",
            "100/100 [==============================] - 2s 23ms/step - loss: 0.0568 - accuracy: 0.9798 - val_loss: 1.3057 - val_accuracy: 0.8057\n",
            "Epoch 47/50\n",
            "100/100 [==============================] - 2s 22ms/step - loss: 0.0557 - accuracy: 0.9813 - val_loss: 1.3091 - val_accuracy: 0.8061\n",
            "Epoch 48/50\n",
            "100/100 [==============================] - 2s 23ms/step - loss: 0.0514 - accuracy: 0.9813 - val_loss: 1.3632 - val_accuracy: 0.8053\n",
            "Epoch 49/50\n",
            "100/100 [==============================] - 2s 23ms/step - loss: 0.0535 - accuracy: 0.9816 - val_loss: 1.3396 - val_accuracy: 0.8055\n",
            "Epoch 50/50\n",
            "100/100 [==============================] - 2s 23ms/step - loss: 0.0512 - accuracy: 0.9826 - val_loss: 1.4093 - val_accuracy: 0.8051\n"
          ]
        }
      ]
    },
    {
      "cell_type": "code",
      "source": [
        "# Checking the accuracy with the training test sets.\n",
        "\n",
        "test_loss, test_acc = model.evaluate(features_test, label_test)\n",
        "print('test_acc:', test_acc)"
      ],
      "metadata": {
        "colab": {
          "base_uri": "https://localhost:8080/"
        },
        "id": "Wy6Zv4M405cb",
        "outputId": "21a5d425-3836-46ef-f457-2f6d225113f4"
      },
      "execution_count": 270,
      "outputs": [
        {
          "output_type": "stream",
          "name": "stdout",
          "text": [
            "291/291 [==============================] - 1s 4ms/step - loss: 1.5073 - accuracy: 0.7861\n",
            "test_acc: 0.7861452102661133\n"
          ]
        }
      ]
    },
    {
      "cell_type": "code",
      "source": [
        "# Viewing the accuracy from the training.\n",
        "\n",
        "import matplotlib.pyplot as plt\n",
        "\n",
        "acc = history.history['accuracy']\n",
        "val_acc = history.history['val_accuracy']\n",
        "loss = history.history['loss']\n",
        "val_loss = history.history['val_loss']\n",
        "\n",
        "epochs = range(len(acc))\n",
        "\n",
        "plt.plot(epochs, acc, 'bo', label='Training acc')\n",
        "plt.plot(epochs, val_acc, 'b', label='Validation acc')\n",
        "plt.title('Training and validation accuracy')\n",
        "plt.legend()\n",
        "\n",
        "plt.figure()\n",
        "\n",
        "plt.plot(epochs, loss, 'bo', label='Training loss')\n",
        "plt.plot(epochs, val_loss, 'b', label='Validation loss')\n",
        "plt.title('Training and validation loss')\n",
        "plt.legend()\n",
        "\n",
        "plt.show()"
      ],
      "metadata": {
        "colab": {
          "base_uri": "https://localhost:8080/",
          "height": 545
        },
        "id": "AtvayP_f2phU",
        "outputId": "ce3f633f-c870-4e5d-b201-1bf033f71909"
      },
      "execution_count": 271,
      "outputs": [
        {
          "output_type": "display_data",
          "data": {
            "text/plain": [
              "<Figure size 432x288 with 1 Axes>"
            ],
            "image/png": "[encoded data removed]"
          },
          "metadata": {
            "needs_background": "light"
          }
        },
        {
          "output_type": "display_data",
          "data": {
            "text/plain": [
              "<Figure size 432x288 with 1 Axes>"
            ],
            "image/png": "[encoded data removed]"
          },
          "metadata": {
            "needs_background": "light"
          }
        }
      ]
    },
    {
      "cell_type": "code",
      "source": [
        "# Getting the predictions from the test data.\n",
        "\n",
        "predictions = model.predict(test)\n",
        "predictions[1]"
      ],
      "metadata": {
        "colab": {
          "base_uri": "https://localhost:8080/"
        },
        "id": "yx8cV-UPAJ62",
        "outputId": "a73eab9c-8cae-4bcf-e6f6-4dcadb848630"
      },
      "execution_count": 272,
      "outputs": [
        {
          "output_type": "stream",
          "name": "stdout",
          "text": [
            "4512/4512 [==============================] - 20s 4ms/step\n"
          ]
        },
        {
          "output_type": "execute_result",
          "data": {
            "text/plain": [
              "array([0.0000000e+00, 2.6624034e-29, 0.0000000e+00, 0.0000000e+00,\n",
              "       0.0000000e+00, 9.9999994e-01, 0.0000000e+00, 2.0610513e-09,\n",
              "       1.3684475e-26], dtype=float32)"
            ]
          },
          "metadata": {},
          "execution_count": 272
        }
      ]
    },
    {
      "cell_type": "code",
      "source": [
        "# Making the column names.\n",
        "\n",
        "columns = ['Class_1', 'Class_2', 'Class_3', 'Class_4', 'Class_5', 'Class_6',\n",
        "       'Class_7', 'Class_8', 'Class_9']"
      ],
      "metadata": {
        "id": "zH-tUONXBglt"
      },
      "execution_count": 273,
      "outputs": []
    },
    {
      "cell_type": "code",
      "source": [
        "# Getting the id column.\n",
        "\n",
        "id = pd.read_csv(\"test.csv\")"
      ],
      "metadata": {
        "id": "LlQ8WsSKFpev"
      },
      "execution_count": 274,
      "outputs": []
    },
    {
      "cell_type": "code",
      "source": [
        "# Combining the id column with the predictions.\n",
        "\n",
        "pred = pd.DataFrame(predictions, columns = columns)\n",
        "pred = pd.concat([id['id'], pred], axis=1)\n",
        "pred"
      ],
      "metadata": {
        "colab": {
          "base_uri": "https://localhost:8080/",
          "height": 424
        },
        "id": "jGiPiLhkA7Sd",
        "outputId": "b7cde1b5-ade9-4864-9a82-9217dab0bfde"
      },
      "execution_count": 275,
      "outputs": [
        {
          "output_type": "execute_result",
          "data": {
            "text/plain": [
              "            id       Class_1       Class_2       Class_3       Class_4  \\\n",
              "0            1  1.978191e-11  8.797040e-05  1.146651e-01  8.852468e-01   \n",
              "1            2  0.000000e+00  2.662403e-29  0.000000e+00  0.000000e+00   \n",
              "2            3  0.000000e+00  0.000000e+00  0.000000e+00  0.000000e+00   \n",
              "3            4  2.323509e-09  5.915049e-02  9.407065e-01  1.430331e-04   \n",
              "4            5  1.601367e-02  9.319826e-15  0.000000e+00  7.900515e-33   \n",
              "...        ...           ...           ...           ...           ...   \n",
              "144363  144364  1.873182e-06  1.771459e-12  6.861569e-14  3.115561e-12   \n",
              "144364  144365  1.589547e-05  9.777938e-02  8.985240e-01  3.440583e-03   \n",
              "144365  144366  3.547744e-14  9.999121e-01  8.779393e-05  3.766881e-09   \n",
              "144366  144367  8.650592e-13  2.594698e-05  1.087858e-06  9.999729e-01   \n",
              "144367  144368  1.778195e-13  4.239078e-01  5.760828e-01  1.438175e-08   \n",
              "\n",
              "             Class_5       Class_6       Class_7       Class_8       Class_9  \n",
              "0       7.933507e-18  3.409733e-14  1.092840e-08  7.685568e-13  2.909015e-14  \n",
              "1       0.000000e+00  9.999999e-01  0.000000e+00  2.061051e-09  1.368447e-26  \n",
              "2       0.000000e+00  9.999999e-01  0.000000e+00  0.000000e+00  0.000000e+00  \n",
              "3       1.661590e-19  2.295297e-16  5.200034e-15  4.072448e-11  4.318633e-15  \n",
              "4       6.850447e-36  2.437620e-23  2.043263e-35  5.457855e-16  9.839864e-01  \n",
              "...              ...           ...           ...           ...           ...  \n",
              "144363  2.256520e-18  9.999979e-01  1.167086e-19  8.722854e-08  2.459384e-09  \n",
              "144364  9.720600e-10  6.607959e-09  2.401829e-04  1.184774e-08  9.333328e-11  \n",
              "144365  1.030148e-20  2.928652e-16  1.956824e-13  6.603204e-13  5.811903e-12  \n",
              "144366  6.880357e-11  4.183641e-09  1.078958e-08  6.592114e-10  8.768469e-13  \n",
              "144367  1.476368e-17  1.042348e-11  9.566418e-06  3.068432e-11  6.860799e-14  \n",
              "\n",
              "[144368 rows x 10 columns]"
            ],
            "text/html": [
              "\n",
              "  <div id=\"df-edffc652-c0d6-49f9-ad28-883201d53d32\">\n",
              "    <div class=\"colab-df-container\">\n",
              "      <div>\n",
              "<style scoped>\n",
              "    .dataframe tbody tr th:only-of-type {\n",
              "        vertical-align: middle;\n",
              "    }\n",
              "\n",
              "    .dataframe tbody tr th {\n",
              "        vertical-align: top;\n",
              "    }\n",
              "\n",
              "    .dataframe thead th {\n",
              "        text-align: right;\n",
              "    }\n",
              "</style>\n",
              "<table border=\"1\" class=\"dataframe\">\n",
              "  <thead>\n",
              "    <tr style=\"text-align: right;\">\n",
              "      <th></th>\n",
              "      <th>id</th>\n",
              "      <th>Class_1</th>\n",
              "      <th>Class_2</th>\n",
              "      <th>Class_3</th>\n",
              "      <th>Class_4</th>\n",
              "      <th>Class_5</th>\n",
              "      <th>Class_6</th>\n",
              "      <th>Class_7</th>\n",
              "      <th>Class_8</th>\n",
              "      <th>Class_9</th>\n",
              "    </tr>\n",
              "  </thead>\n",
              "  <tbody>\n",
              "    <tr>\n",
              "      <th>0</th>\n",
              "      <td>1</td>\n",
              "      <td>1.978191e-11</td>\n",
              "      <td>8.797040e-05</td>\n",
              "      <td>1.146651e-01</td>\n",
              "      <td>8.852468e-01</td>\n",
              "      <td>7.933507e-18</td>\n",
              "      <td>3.409733e-14</td>\n",
              "      <td>1.092840e-08</td>\n",
              "      <td>7.685568e-13</td>\n",
              "      <td>2.909015e-14</td>\n",
              "    </tr>\n",
              "    <tr>\n",
              "      <th>1</th>\n",
              "      <td>2</td>\n",
              "      <td>0.000000e+00</td>\n",
              "      <td>2.662403e-29</td>\n",
              "      <td>0.000000e+00</td>\n",
              "      <td>0.000000e+00</td>\n",
              "      <td>0.000000e+00</td>\n",
              "      <td>9.999999e-01</td>\n",
              "      <td>0.000000e+00</td>\n",
              "      <td>2.061051e-09</td>\n",
              "      <td>1.368447e-26</td>\n",
              "    </tr>\n",
              "    <tr>\n",
              "      <th>2</th>\n",
              "      <td>3</td>\n",
              "      <td>0.000000e+00</td>\n",
              "      <td>0.000000e+00</td>\n",
              "      <td>0.000000e+00</td>\n",
              "      <td>0.000000e+00</td>\n",
              "      <td>0.000000e+00</td>\n",
              "      <td>9.999999e-01</td>\n",
              "      <td>0.000000e+00</td>\n",
              "      <td>0.000000e+00</td>\n",
              "      <td>0.000000e+00</td>\n",
              "    </tr>\n",
              "    <tr>\n",
              "      <th>3</th>\n",
              "      <td>4</td>\n",
              "      <td>2.323509e-09</td>\n",
              "      <td>5.915049e-02</td>\n",
              "      <td>9.407065e-01</td>\n",
              "      <td>1.430331e-04</td>\n",
              "      <td>1.661590e-19</td>\n",
              "      <td>2.295297e-16</td>\n",
              "      <td>5.200034e-15</td>\n",
              "      <td>4.072448e-11</td>\n",
              "      <td>4.318633e-15</td>\n",
              "    </tr>\n",
              "    <tr>\n",
              "      <th>4</th>\n",
              "      <td>5</td>\n",
              "      <td>1.601367e-02</td>\n",
              "      <td>9.319826e-15</td>\n",
              "      <td>0.000000e+00</td>\n",
              "      <td>7.900515e-33</td>\n",
              "      <td>6.850447e-36</td>\n",
              "      <td>2.437620e-23</td>\n",
              "      <td>2.043263e-35</td>\n",
              "      <td>5.457855e-16</td>\n",
              "      <td>9.839864e-01</td>\n",
              "    </tr>\n",
              "    <tr>\n",
              "      <th>...</th>\n",
              "      <td>...</td>\n",
              "      <td>...</td>\n",
              "      <td>...</td>\n",
              "      <td>...</td>\n",
              "      <td>...</td>\n",
              "      <td>...</td>\n",
              "      <td>...</td>\n",
              "      <td>...</td>\n",
              "      <td>...</td>\n",
              "      <td>...</td>\n",
              "    </tr>\n",
              "    <tr>\n",
              "      <th>144363</th>\n",
              "      <td>144364</td>\n",
              "      <td>1.873182e-06</td>\n",
              "      <td>1.771459e-12</td>\n",
              "      <td>6.861569e-14</td>\n",
              "      <td>3.115561e-12</td>\n",
              "      <td>2.256520e-18</td>\n",
              "      <td>9.999979e-01</td>\n",
              "      <td>1.167086e-19</td>\n",
              "      <td>8.722854e-08</td>\n",
              "      <td>2.459384e-09</td>\n",
              "    </tr>\n",
              "    <tr>\n",
              "      <th>144364</th>\n",
              "      <td>144365</td>\n",
              "      <td>1.589547e-05</td>\n",
              "      <td>9.777938e-02</td>\n",
              "      <td>8.985240e-01</td>\n",
              "      <td>3.440583e-03</td>\n",
              "      <td>9.720600e-10</td>\n",
              "      <td>6.607959e-09</td>\n",
              "      <td>2.401829e-04</td>\n",
              "      <td>1.184774e-08</td>\n",
              "      <td>9.333328e-11</td>\n",
              "    </tr>\n",
              "    <tr>\n",
              "      <th>144365</th>\n",
              "      <td>144366</td>\n",
              "      <td>3.547744e-14</td>\n",
              "      <td>9.999121e-01</td>\n",
              "      <td>8.779393e-05</td>\n",
              "      <td>3.766881e-09</td>\n",
              "      <td>1.030148e-20</td>\n",
              "      <td>2.928652e-16</td>\n",
              "      <td>1.956824e-13</td>\n",
              "      <td>6.603204e-13</td>\n",
              "      <td>5.811903e-12</td>\n",
              "    </tr>\n",
              "    <tr>\n",
              "      <th>144366</th>\n",
              "      <td>144367</td>\n",
              "      <td>8.650592e-13</td>\n",
              "      <td>2.594698e-05</td>\n",
              "      <td>1.087858e-06</td>\n",
              "      <td>9.999729e-01</td>\n",
              "      <td>6.880357e-11</td>\n",
              "      <td>4.183641e-09</td>\n",
              "      <td>1.078958e-08</td>\n",
              "      <td>6.592114e-10</td>\n",
              "      <td>8.768469e-13</td>\n",
              "    </tr>\n",
              "    <tr>\n",
              "      <th>144367</th>\n",
              "      <td>144368</td>\n",
              "      <td>1.778195e-13</td>\n",
              "      <td>4.239078e-01</td>\n",
              "      <td>5.760828e-01</td>\n",
              "      <td>1.438175e-08</td>\n",
              "      <td>1.476368e-17</td>\n",
              "      <td>1.042348e-11</td>\n",
              "      <td>9.566418e-06</td>\n",
              "      <td>3.068432e-11</td>\n",
              "      <td>6.860799e-14</td>\n",
              "    </tr>\n",
              "  </tbody>\n",
              "</table>\n",
              "<p>144368 rows × 10 columns</p>\n",
              "</div>\n",
              "      <button class=\"colab-df-convert\" onclick=\"convertToInteractive('df-edffc652-c0d6-49f9-ad28-883201d53d32')\"\n",
              "              title=\"Convert this dataframe to an interactive table.\"\n",
              "              style=\"display:none;\">\n",
              "        \n",
              "  <svg xmlns=\"http://www.w3.org/2000/svg\" height=\"24px\"viewBox=\"0 0 24 24\"\n",
              "       width=\"24px\">\n",
              "    <path d=\"M0 0h24v24H0V0z\" fill=\"none\"/>\n",
              "    <path d=\"M18.56 5.44l.94 2.06.94-2.06 2.06-.94-2.06-.94-.94-2.06-.94 2.06-2.06.94zm-11 1L8.5 8.5l.94-2.06 2.06-.94-2.06-.94L8.5 2.5l-.94 2.06-2.06.94zm10 10l.94 2.06.94-2.06 2.06-.94-2.06-.94-.94-2.06-.94 2.06-2.06.94z\"/><path d=\"M17.41 7.96l-1.37-1.37c-.4-.4-.92-.59-1.43-.59-.52 0-1.04.2-1.43.59L10.3 9.45l-7.72 7.72c-.78.78-.78 2.05 0 2.83L4 21.41c.39.39.9.59 1.41.59.51 0 1.02-.2 1.41-.59l7.78-7.78 2.81-2.81c.8-.78.8-2.07 0-2.86zM5.41 20L4 18.59l7.72-7.72 1.47 1.35L5.41 20z\"/>\n",
              "  </svg>\n",
              "      </button>\n",
              "      \n",
              "  <style>\n",
              "    .colab-df-container {\n",
              "      display:flex;\n",
              "      flex-wrap:wrap;\n",
              "      gap: 12px;\n",
              "    }\n",
              "\n",
              "    .colab-df-convert {\n",
              "      background-color: #E8F0FE;\n",
              "      border: none;\n",
              "      border-radius: 50%;\n",
              "      cursor: pointer;\n",
              "      display: none;\n",
              "      fill: #1967D2;\n",
              "      height: 32px;\n",
              "      padding: 0 0 0 0;\n",
              "      width: 32px;\n",
              "    }\n",
              "\n",
              "    .colab-df-convert:hover {\n",
              "      background-color: #E2EBFA;\n",
              "      box-shadow: 0px 1px 2px rgba(60, 64, 67, 0.3), 0px 1px 3px 1px rgba(60, 64, 67, 0.15);\n",
              "      fill: #174EA6;\n",
              "    }\n",
              "\n",
              "    [theme=dark] .colab-df-convert {\n",
              "      background-color: #3B4455;\n",
              "      fill: #D2E3FC;\n",
              "    }\n",
              "\n",
              "    [theme=dark] .colab-df-convert:hover {\n",
              "      background-color: #434B5C;\n",
              "      box-shadow: 0px 1px 3px 1px rgba(0, 0, 0, 0.15);\n",
              "      filter: drop-shadow(0px 1px 2px rgba(0, 0, 0, 0.3));\n",
              "      fill: #FFFFFF;\n",
              "    }\n",
              "  </style>\n",
              "\n",
              "      <script>\n",
              "        const buttonEl =\n",
              "          document.querySelector('#df-edffc652-c0d6-49f9-ad28-883201d53d32 button.colab-df-convert');\n",
              "        buttonEl.style.display =\n",
              "          google.colab.kernel.accessAllowed ? 'block' : 'none';\n",
              "\n",
              "        async function convertToInteractive(key) {\n",
              "          const element = document.querySelector('#df-edffc652-c0d6-49f9-ad28-883201d53d32');\n",
              "          const dataTable =\n",
              "            await google.colab.kernel.invokeFunction('convertToInteractive',\n",
              "                                                     [key], {});\n",
              "          if (!dataTable) return;\n",
              "\n",
              "          const docLinkHtml = 'Like what you see? Visit the ' +\n",
              "            '<a target=\"_blank\" href=https://colab.research.google.com/notebooks/data_table.ipynb>data table notebook</a>'\n",
              "            + ' to learn more about interactive tables.';\n",
              "          element.innerHTML = '';\n",
              "          dataTable['output_type'] = 'display_data';\n",
              "          await google.colab.output.renderOutput(dataTable, element);\n",
              "          const docLink = document.createElement('div');\n",
              "          docLink.innerHTML = docLinkHtml;\n",
              "          element.appendChild(docLink);\n",
              "        }\n",
              "      </script>\n",
              "    </div>\n",
              "  </div>\n",
              "  "
            ]
          },
          "metadata": {},
          "execution_count": 275
        }
      ]
    },
    {
      "cell_type": "code",
      "source": [
        "# Getting rid of the automatic index of the dataframe and turning it into a csv.\n",
        "\n",
        "pred.to_csv(\"Submission\", index=False)"
      ],
      "metadata": {
        "id": "RvYJhnTUGd7P"
      },
      "execution_count": 276,
      "outputs": []
    },
    {
      "cell_type": "markdown",
      "source": [
        "![image.png](data:image/png;base64,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)"
      ],
      "metadata": {
        "id": "Qy_lmmiDO-HZ"
      }
    },
    {
      "cell_type": "markdown",
      "source": [
        "These are the scores i got from the submissions on Kaggle"
      ],
      "metadata": {
        "id": "9j0dUGn6PDOx"
      }
    }
  ]
}